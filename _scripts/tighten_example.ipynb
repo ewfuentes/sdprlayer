{
 "cells": [
  {
   "cell_type": "markdown",
   "metadata": {},
   "source": [
    "# SDP Tightening Example\n",
    "\n",
    "In this example, we will see how the SDPRLayer class can be used to find constraints that lead to a tight semidefinite relaxation for the simple polynomial problem in Section V-A of the [paper](https://arxiv.org/abs/2405.19309).\n",
    "\n",
    "We start by defining the objective function and the (non-redundant) constraints:"
   ]
  },
  {
   "cell_type": "code",
   "execution_count": 2,
   "metadata": {},
   "outputs": [],
   "source": [
    "import scipy.sparse as sp\n",
    "import numpy as np\n",
    "import torch\n",
    "import matplotlib.pyplot as plt\n",
    "from sdprlayers import SDPRLayer\n"
   ]
  },
  {
   "cell_type": "code",
   "execution_count": 3,
   "metadata": {},
   "outputs": [
    {
     "data": {
      "text/plain": [
       "[<matplotlib.lines.Line2D at 0x7fa2e3bb3090>]"
      ]
     },
     "execution_count": 3,
     "metadata": {},
     "output_type": "execute_result"
    },
    {
     "data": {
      "image/png": "[encoded data removed]",
      "text/plain": [
       "<Figure size 640x480 with 1 Axes>"
      ]
     },
     "metadata": {},
     "output_type": "display_data"
    }
   ],
   "source": [
    "\n",
    "# Define Constraints\n",
    "constraints = []\n",
    "A = sp.lil_array((4, 4))  # x^2 = x*x\n",
    "A[2, 0] = 1 / 2\n",
    "A[0, 2] = 1 / 2\n",
    "A[1, 1] = -1\n",
    "constraints += [A]\n",
    "A = sp.lil_array((4, 4))  # x^3 = x^2*x\n",
    "A[3, 0] = 1\n",
    "A[0, 3] = 1\n",
    "A[1, 2] = -1\n",
    "A[2, 1] = -1\n",
    "constraints += [A]\n",
    "\n",
    "# Define objective (polynomial) parameters\n",
    "p_vals = np.array(\n",
    "                [\n",
    "                    5.0000 + 5.0,\n",
    "                    1.3167 * 2,\n",
    "                    -1.4481 * 3,\n",
    "                    0 * 4,\n",
    "                    0.2685 * 3,\n",
    "                    -0.0667 * 2,\n",
    "                    0.0389,\n",
    "                ]\n",
    "            )\n",
    "\n",
    "# Plot Polynomial\n",
    "plt.figure()\n",
    "x = np.linspace(-2.5, 2.5, 100)\n",
    "y = np.polyval(p_vals[::-1], x)\n",
    "plt.plot(x, y)"
   ]
  },
  {
   "cell_type": "markdown",
   "metadata": {},
   "source": [
    "Now we can define the SDPRLayer and run the optimization:"
   ]
  },
  {
   "cell_type": "code",
   "execution_count": 4,
   "metadata": {},
   "outputs": [
    {
     "name": "stdout",
     "output_type": "stream",
     "text": [
      "------------------------------------------------------------------\n",
      "\t       SCS v3.2.7 - Splitting Conic Solver\n",
      "\t(c) Brendan O'Donoghue, Stanford University, 2012\n",
      "------------------------------------------------------------------\n",
      "problem:  variables n: 3, constraints m: 10\n",
      "cones: \t  s: psd vars: 10, ssize: 1\n",
      "settings: eps_abs: 1.0e-09, eps_rel: 1.0e-09, eps_infeas: 1.0e-07\n",
      "\t  alpha: 1.50, scale: 1.00e-01, adaptive_scale: 1\n",
      "\t  max_iters: 100000, normalize: 1, rho_x: 1.00e-06\n",
      "\t  acceleration_lookback: 10, acceleration_interval: 10\n",
      "lin-sys:  sparse-direct-amd-qdldl\n",
      "\t  nnz(A): 5, nnz(P): 0\n",
      "------------------------------------------------------------------\n",
      " iter | pri res | dua res |   gap   |   obj   |  scale  | time (s)\n",
      "------------------------------------------------------------------\n",
      "     0| 2.34e+01  1.01e+00  1.61e+01 -2.53e+01  1.00e-01  1.63e-03 \n",
      "   250| 9.71e-02  1.24e-02  4.90e+00  1.22e+01  3.32e-01  3.34e-03 \n",
      "   500| 6.49e-02  6.28e-03  1.28e+00  1.82e+01  3.32e-01  4.95e-03 \n",
      "   750| 5.37e-02  3.88e-03  6.52e-01  2.02e+01  3.32e-01  6.57e-03 \n",
      "  1000| 4.72e-02  3.49e-03  5.33e-01  2.15e+01  3.32e-01  8.18e-03 \n",
      "  1250| 4.37e-02  3.30e-03  4.74e-01  2.27e+01  3.32e-01  9.77e-03 \n",
      "  1500| 4.39e-02  3.15e-03  4.30e-01  2.36e+01  3.32e-01  1.14e-02 \n",
      "  1750| 5.04e+00  2.46e+00  4.08e+00  3.76e+01  3.32e-01  1.26e-02 \n",
      "  2000| 4.30e-02  2.86e-03  3.62e-01  2.53e+01  3.32e-01  1.37e-02 \n",
      "  2250| 4.22e-02  2.73e-03  3.34e-01  2.60e+01  3.32e-01  1.49e-02 \n",
      "  2500| 4.13e-02  2.60e-03  3.09e-01  2.66e+01  3.32e-01  1.61e-02 \n",
      "  2750| 4.02e-02  2.47e-03  2.87e-01  2.72e+01  3.32e-01  1.73e-02 \n",
      "  3000| 3.90e-02  2.35e-03  2.67e-01  2.77e+01  3.32e-01  1.84e-02 \n",
      "  3250| 3.77e-02  2.23e-03  2.48e-01  2.81e+01  3.32e-01  1.96e-02 \n",
      "  3500| 3.65e-02  2.12e-03  2.31e-01  2.86e+01  3.32e-01  2.08e-02 \n",
      "  3750| 3.51e-02  2.01e-03  2.15e-01  2.90e+01  3.32e-01  2.19e-02 \n",
      "  4000| 3.38e-02  1.90e-03  2.01e-01  2.93e+01  3.32e-01  2.31e-02 \n",
      "  4250| 3.25e-02  1.80e-03  1.87e-01  2.96e+01  3.32e-01  2.43e-02 \n",
      "  4500| 5.99e-01  2.90e-01  4.74e-01  3.17e+01  3.32e-01  2.55e-02 \n",
      "  4750| 2.99e-02  1.61e-03  1.63e-01  3.02e+01  3.32e-01  2.66e-02 \n",
      "  5000| 2.87e-02  1.52e-03  1.53e-01  3.04e+01  3.32e-01  2.78e-02 \n",
      "  5250| 2.74e-02  1.43e-03  1.43e-01  3.06e+01  3.32e-01  2.89e-02 \n",
      "  5500| 2.62e-02  1.35e-03  1.33e-01  3.08e+01  3.32e-01  3.01e-02 \n",
      "  5750| 2.51e-02  1.28e-03  1.25e-01  3.10e+01  3.32e-01  3.13e-02 \n",
      "  6000| 2.40e-02  1.20e-03  1.17e-01  3.12e+01  3.32e-01  3.24e-02 \n",
      "  6250| 2.29e-02  1.14e-03  1.09e-01  3.13e+01  3.32e-01  3.36e-02 \n",
      "  6500| 2.19e-02  1.07e-03  1.02e-01  3.15e+01  3.32e-01  3.48e-02 \n",
      "  6750| 2.09e-02  1.01e-03  9.55e-02  3.16e+01  3.32e-01  3.60e-02 \n",
      "  7000| 1.99e-02  9.50e-04  8.94e-02  3.17e+01  3.32e-01  3.71e-02 \n",
      "  7250| 9.32e-01  4.54e-01  7.35e-01  3.18e+01  3.32e-01  3.83e-02 \n",
      "  7500| 1.81e-02  8.44e-04  7.85e-02  3.19e+01  3.32e-01  3.95e-02 \n",
      "  7750| 1.73e-02  7.95e-04  7.36e-02  3.20e+01  3.32e-01  4.06e-02 \n",
      "  8000| 1.65e-02  7.48e-04  6.90e-02  3.21e+01  3.32e-01  4.18e-02 \n",
      "  8250| 1.58e-02  7.05e-04  6.47e-02  3.21e+01  3.32e-01  4.29e-02 \n",
      "  8500| 1.51e-02  6.64e-04  6.08e-02  3.22e+01  3.32e-01  4.41e-02 \n",
      "  8750| 1.44e-02  6.26e-04  5.71e-02  3.23e+01  3.32e-01  4.52e-02 \n",
      "  9000| 1.38e-02  5.90e-04  5.36e-02  3.23e+01  3.32e-01  4.64e-02 \n",
      "  9250| 1.32e-02  5.56e-04  5.04e-02  3.24e+01  3.32e-01  4.75e-02 \n",
      "  9500| 1.26e-02  5.25e-04  4.74e-02  3.24e+01  3.32e-01  4.87e-02 \n",
      "  9750| 1.20e-02  4.95e-04  4.46e-02  3.25e+01  3.32e-01  4.99e-02 \n",
      " 10000| 1.33e-01  6.23e-02  1.15e-01  3.31e+01  3.32e-01  5.10e-02 \n",
      " 10250| 1.10e-02  4.41e-04  3.96e-02  3.26e+01  3.32e-01  5.22e-02 \n",
      " 10500| 1.06e-02  4.16e-04  3.73e-02  3.26e+01  3.32e-01  5.33e-02 \n",
      " 10750| 1.01e-02  3.93e-04  3.52e-02  3.26e+01  3.32e-01  5.45e-02 \n",
      " 11000| 1.06e-01  5.24e-02  7.39e-02  3.31e+01  3.32e-01  5.56e-02 \n",
      " 11250| 1.29e-03  3.80e-05  2.88e-03  3.33e+01  3.32e-01  5.68e-02 \n",
      " 11500| 1.20e-03  7.30e-05  5.24e-03  3.33e+01  3.32e-01  5.80e-02 \n",
      " 11750| 1.77e-04  4.61e-05  1.14e-03  3.33e+01  3.32e-01  5.91e-02 \n",
      " 12000| 1.89e-04  8.82e-05  1.05e-03  3.33e+01  3.32e-01  6.03e-02 \n",
      " 12250| 2.94e-05  2.38e-06  3.07e-04  3.33e+01  3.32e-01  6.15e-02 \n",
      " 12500| 2.07e-05  3.84e-07  9.71e-05  3.33e+01  3.32e-01  6.26e-02 \n",
      " 12750| 4.77e-06  1.05e-06  2.25e-05  3.33e+01  3.32e-01  6.38e-02 \n",
      " 13000| 3.63e-06  2.56e-07  1.38e-05  3.33e+01  3.32e-01  6.50e-02 \n",
      " 13250| 8.52e-07  1.05e-07  6.32e-06  3.33e+01  3.32e-01  6.61e-02 \n",
      " 13500| 1.73e-07  1.45e-09  6.96e-08  3.33e+01  3.32e-01  6.73e-02 \n",
      " 13750| 9.67e-08  2.66e-08  1.05e-06  3.33e+01  3.32e-01  6.85e-02 \n",
      " 13875| 2.56e-08  7.85e-10  3.10e-08  3.33e+01  3.32e-01  6.91e-02 \n",
      "------------------------------------------------------------------\n",
      "status:  solved\n",
      "timings: total: 6.91e-02s = setup: 9.42e-04s + solve: 6.82e-02s\n",
      "\t lin-sys: 3.26e-03s, cones: 5.81e-02s, accel: 1.32e-03s\n",
      "------------------------------------------------------------------\n",
      "objective = 33.276949\n",
      "------------------------------------------------------------------\n"
     ]
    }
   ],
   "source": [
    "# Create SDPR Layer\n",
    "layer = SDPRLayer(n_vars=4, constraints=constraints)\n",
    "\n",
    "# Create Data matrix\n",
    "def build_data_mat(p):\n",
    "    Q_tch = torch.zeros((4, 4), dtype=torch.double)\n",
    "    Q_tch[0, 0] = p[0]\n",
    "    Q_tch[[1, 0], [0, 1]] = p[1] / 2\n",
    "    Q_tch[[2, 1, 0], [0, 1, 2]] = p[2] / 3\n",
    "    Q_tch[[3, 2, 1, 0], [0, 1, 2, 3]] = p[3] / 4\n",
    "    Q_tch[[3, 2, 1], [1, 2, 3]] = p[4] / 3\n",
    "    Q_tch[[3, 2], [2, 3]] = p[5] / 2\n",
    "    Q_tch[3, 3] = p[6]\n",
    "    return Q_tch\n",
    "Q = build_data_mat(torch.tensor(p_vals))\n",
    "\n",
    "# Solve problem\n",
    "sdp_solver_args = {\"eps\": 1e-9, \"verbose\": True}\n",
    "X, x = layer(Q, solver_args=sdp_solver_args)"
   ]
  },
  {
   "cell_type": "markdown",
   "metadata": {},
   "source": [
    "We can test how tight the relaxation is using the `check_tightness` function."
   ]
  },
  {
   "cell_type": "code",
   "execution_count": 5,
   "metadata": {},
   "outputs": [
    {
     "name": "stdout",
     "output_type": "stream",
     "text": [
      "Is tight? False\n",
      "Eigenvalue Ratio:  5.172466956703235\n"
     ]
    }
   ],
   "source": [
    "# Check Tightness\n",
    "tight, ER = SDPRLayer.check_tightness(X)\n",
    "print(f\"Is tight? {tight}\")\n",
    "print(f\"Eigenvalue Ratio:  {ER}\")"
   ]
  },
  {
   "cell_type": "markdown",
   "metadata": {},
   "source": [
    "Based on the test, the SDP relaxation is *not tight*. However, it is possible that there are other constraints that can make this problem tight. Do find them, we first generate a set of samples from the feasible set. \n",
    "\n",
    "Recall that our variable in this case is of the form:\n",
    "$$\n",
    "\\bm{x}^T = \\begin{bmatrix} 1 & x & x^2 & x^3 \\end{bmatrix}\n",
    "$$\n",
    "where $x\\in\\mathbb{R}$. We can therefore sample random values of $x$ and construct a list of sample vectors. It is important to make sure that samples chosen are *poised*, meaning that there are sufficient samples to represent the underlying feasible set (see paper for details)."
   ]
  },
  {
   "cell_type": "code",
   "execution_count": 6,
   "metadata": {},
   "outputs": [],
   "source": [
    "# Generate a set of samples of the feasible set\n",
    "n_samples = 10\n",
    "samples = []\n",
    "for i in range(n_samples):\n",
    "    x = (np.random.rand() * 2 - 1) * 2\n",
    "    samples += [np.array([1, x, x**2, x**3])]"
   ]
  },
  {
   "cell_type": "markdown",
   "metadata": {},
   "source": [
    "The sample list can then be used generate a set of constraints using the `find_constraints` function:"
   ]
  },
  {
   "cell_type": "code",
   "execution_count": 7,
   "metadata": {},
   "outputs": [
    {
     "name": "stdout",
     "output_type": "stream",
     "text": [
      "Found 3 constraints.\n",
      "Original Constraints:\n"
     ]
    },
    {
     "data": {
      "image/png": "[encoded data removed]",
      "text/plain": [
       "<Figure size 640x480 with 2 Axes>"
      ]
     },
     "metadata": {},
     "output_type": "display_data"
    },
    {
     "name": "stdout",
     "output_type": "stream",
     "text": [
      "New Constraints:\n"
     ]
    },
    {
     "data": {
      "image/png": "[encoded data removed]",
      "text/plain": [
       "<Figure size 640x480 with 3 Axes>"
      ]
     },
     "metadata": {},
     "output_type": "display_data"
    }
   ],
   "source": [
    "# Get new set of constraints\n",
    "constraints_new = SDPRLayer.find_constraints(samples)\n",
    "print(f\"Found {len(constraints_new)} constraints.\")\n",
    "\n",
    "# Display original constraints\n",
    "print(\"Original Constraints:\")\n",
    "fig, axs = plt.subplots(1,len(constraints))\n",
    "for i, constr in enumerate(constraints):\n",
    "    axs[i].matshow(constr.todense())\n",
    "plt.show()\n",
    "# Display new constraints\n",
    "print(\"New Constraints:\")\n",
    "fig, axs = plt.subplots(1,len(constraints_new))\n",
    "for i, constr in enumerate(constraints_new):\n",
    "    axs[i].matshow(constr)\n",
    "plt.show()"
   ]
  },
  {
   "cell_type": "markdown",
   "metadata": {},
   "source": [
    "We have found a total of 3 constraints, two of which we already had. We can redefine the layer and run the optimization to check the tightness of the problem with the additional constraint."
   ]
  },
  {
   "cell_type": "code",
   "execution_count": 8,
   "metadata": {},
   "outputs": [
    {
     "name": "stdout",
     "output_type": "stream",
     "text": [
      "------------------------------------------------------------------\n",
      "\t       SCS v3.2.7 - Splitting Conic Solver\n",
      "\t(c) Brendan O'Donoghue, Stanford University, 2012\n",
      "------------------------------------------------------------------\n",
      "problem:  variables n: 4, constraints m: 10\n",
      "cones: \t  s: psd vars: 10, ssize: 1\n",
      "settings: eps_abs: 1.0e-09, eps_rel: 1.0e-09, eps_infeas: 1.0e-07\n",
      "\t  alpha: 1.50, scale: 1.00e-01, adaptive_scale: 1\n",
      "\t  max_iters: 100000, normalize: 1, rho_x: 1.00e-06\n",
      "\t  acceleration_lookback: 10, acceleration_interval: 10\n",
      "lin-sys:  sparse-direct-amd-qdldl\n",
      "\t  nnz(A): 25, nnz(P): 0\n",
      "------------------------------------------------------------------\n",
      " iter | pri res | dua res |   gap   |   obj   |  scale  | time (s)\n",
      "------------------------------------------------------------------\n",
      "     0| 2.29e+01  1.01e+00  1.57e+01 -2.50e+01  1.00e-01  1.15e-03 \n",
      "   250| 2.76e-02  7.92e-04  5.34e-01 -2.15e+00  3.23e-01  2.53e-03 \n",
      "   500| 1.58e-04  2.26e-05  3.16e-03 -1.81e+00  3.23e-01  3.78e-03 \n",
      "   600| 2.04e-10  1.06e-10  1.38e-09 -1.81e+00  3.23e-01  4.29e-03 \n",
      "------------------------------------------------------------------\n",
      "status:  solved\n",
      "timings: total: 4.29e-03s = setup: 7.11e-04s + solve: 3.58e-03s\n",
      "\t lin-sys: 1.75e-04s, cones: 2.64e-03s, accel: 8.81e-05s\n",
      "------------------------------------------------------------------\n",
      "objective = -1.806870\n",
      "------------------------------------------------------------------\n",
      "Is tight? True\n",
      "Eigenvalue Ratio:  1.7322628695034746e+16\n"
     ]
    }
   ],
   "source": [
    "# Create SDPR Layer\n",
    "layer = SDPRLayer(n_vars=4, constraints=constraints_new)\n",
    "\n",
    "# Solve problem\n",
    "sdp_solver_args = {\"eps\": 1e-9, \"verbose\": True}\n",
    "X, x = layer(Q, solver_args=sdp_solver_args)\n",
    "\n",
    "# Check Tightness\n",
    "tight, ER = SDPRLayer.check_tightness(X)\n",
    "print(f\"Is tight? {tight}\")\n",
    "print(f\"Eigenvalue Ratio:  {ER}\")"
   ]
  },
  {
   "cell_type": "markdown",
   "metadata": {},
   "source": [
    "The problem is now tight with the new constraint! We can overlay the solution on the polynomial plot and see that it does correspond to the global minimum."
   ]
  },
  {
   "cell_type": "code",
   "execution_count": 9,
   "metadata": {},
   "outputs": [
    {
     "data": {
      "text/plain": [
       "<matplotlib.collections.PathCollection at 0x7fa2e3bb0110>"
      ]
     },
     "execution_count": 9,
     "metadata": {},
     "output_type": "execute_result"
    },
    {
     "data": {
      "image/png": "[encoded data removed]",
      "text/plain": [
       "<Figure size 640x480 with 1 Axes>"
      ]
     },
     "metadata": {},
     "output_type": "display_data"
    }
   ],
   "source": [
    "# Note that the homogenizing variable is stripped away\n",
    "x_star = x[1,0]\n",
    "y_star = torch.trace(X @ Q ).numpy()\n",
    "\n",
    "plt.figure()\n",
    "x_vals = np.linspace(-2.5, 2.5, 100)\n",
    "y_vals = np.polyval(p_vals[::-1], x_vals)\n",
    "plt.plot(x_vals, y_vals)\n",
    "plt.scatter(x_star, y_star, color='r')\n"
   ]
  }
 ],
 "metadata": {
  "kernelspec": {
   "display_name": "sdprlayers",
   "language": "python",
   "name": "python3"
  },
  "language_info": {
   "codemirror_mode": {
    "name": "ipython",
    "version": 3
   },
   "file_extension": ".py",
   "mimetype": "text/x-python",
   "name": "python",
   "nbconvert_exporter": "python",
   "pygments_lexer": "ipython3",
   "version": "3.11.11"
  }
 },
 "nbformat": 4,
 "nbformat_minor": 2
}
